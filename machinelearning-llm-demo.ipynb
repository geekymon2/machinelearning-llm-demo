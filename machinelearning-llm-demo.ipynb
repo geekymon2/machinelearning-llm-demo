{
 "cells": [
  {
   "cell_type": "code",
   "execution_count": 7,
   "id": "1aa799db-4acd-4533-8e2f-c177883d6701",
   "metadata": {},
   "outputs": [],
   "source": [
    "with open('./data/a_room_with_a_view.txt', 'r', encoding='utf-8') as f:\n",
    "    text = f.read()"
   ]
  },
  {
   "cell_type": "markdown",
   "id": "cc4dd787-2454-4e19-b100-15bd28110b4d",
   "metadata": {},
   "source": [
    "Check contents if needed\n",
    "# print(text[:200])"
   ]
  },
  {
   "cell_type": "code",
   "execution_count": 17,
   "id": "493d9f97-79b8-49d4-9e26-302daabab7fa",
   "metadata": {},
   "outputs": [
    {
     "name": "stdout",
     "output_type": "stream",
     "text": [
      "['\\n', ' ', '!', '(', ')', ',', '-', '.', '2', '3', ':', ';', '?', 'A', 'B', 'C', 'D', 'E', 'F', 'G', 'H', 'I', 'J', 'K', 'L', 'M', 'N', 'O', 'P', 'Q', 'R', 'S', 'T', 'U', 'V', 'W', 'X', 'Y', '_', 'a', 'b', 'c', 'd', 'e', 'f', 'g', 'h', 'i', 'j', 'k', 'l', 'm', 'n', 'o', 'p', 'q', 'r', 's', 't', 'u', 'v', 'w', 'x', 'y', 'z', 'ä', 'æ', 'ç', 'é', 'ö', 'œ', '—', '‘', '’', '“', '”', '\\ufeff']\n",
      "77\n"
     ]
    }
   ],
   "source": [
    "chars = sorted(set(text))\n",
    "print(chars)\n",
    "print(len(chars))"
   ]
  },
  {
   "cell_type": "code",
   "execution_count": null,
   "id": "5d4df6f9-fc9f-438c-b785-35481788964c",
   "metadata": {},
   "outputs": [],
   "source": []
  },
  {
   "cell_type": "code",
   "execution_count": null,
   "id": "d9340916-f32b-43a6-aaa8-c2b97beb5be3",
   "metadata": {},
   "outputs": [],
   "source": []
  },
  {
   "cell_type": "code",
   "execution_count": null,
   "id": "39ec8a53-05b7-46df-9e37-ec98dbc958cd",
   "metadata": {},
   "outputs": [],
   "source": []
  },
  {
   "cell_type": "code",
   "execution_count": null,
   "id": "f71d2b2e-22b3-47fa-8824-dffa2aa1ff24",
   "metadata": {},
   "outputs": [],
   "source": []
  }
 ],
 "metadata": {
  "kernelspec": {
   "display_name": "machinelearning-llm-env",
   "language": "python",
   "name": ".mlenv"
  },
  "language_info": {
   "codemirror_mode": {
    "name": "ipython",
    "version": 3
   },
   "file_extension": ".py",
   "mimetype": "text/x-python",
   "name": "python",
   "nbconvert_exporter": "python",
   "pygments_lexer": "ipython3",
   "version": "3.11.7"
  }
 },
 "nbformat": 4,
 "nbformat_minor": 5
}
