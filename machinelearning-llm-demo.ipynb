{
 "cells": [
  {
   "cell_type": "code",
   "execution_count": 48,
   "id": "ce694032-ba89-4674-ac6b-9af0932d1fc9",
   "metadata": {},
   "outputs": [],
   "source": [
    "import torch"
   ]
  },
  {
   "cell_type": "markdown",
   "id": "7d748074-636c-424b-a282-499195329f37",
   "metadata": {},
   "source": [
    "#### Check if CUDA is available then use CUDA. Else use CPU\n",
    "- What Is CUDA?\n",
    "- CUDA is a parallel computing platform and programming model that makes using a GPU for general purpose computing simple.\n",
    "- We are going to use block size and batch size to do parellel processing for training."
   ]
  },
  {
   "cell_type": "code",
   "execution_count": 80,
   "id": "62f4b859-edd3-48a9-8a8a-352c65bc4e14",
   "metadata": {},
   "outputs": [
    {
     "name": "stdout",
     "output_type": "stream",
     "text": [
      "cuda\n"
     ]
    }
   ],
   "source": [
    "device = 'cuda' if torch.cuda.is_available() else 'cpu'\n",
    "print (device)\n",
    "block_size = 8\n",
    "batch_size = 4"
   ]
  },
  {
   "cell_type": "markdown",
   "id": "4ffaf34b-a1f5-4030-bd39-4ed2865c9f86",
   "metadata": {},
   "source": [
    "#### Data content is a story in txt format. We are opening the contents and reading it into text"
   ]
  },
  {
   "cell_type": "code",
   "execution_count": 83,
   "id": "1aa799db-4acd-4533-8e2f-c177883d6701",
   "metadata": {},
   "outputs": [],
   "source": [
    "with open('./data/a_room_with_a_view.txt', 'r', encoding='utf-8') as f:\n",
    "    text = f.read()"
   ]
  },
  {
   "cell_type": "markdown",
   "id": "cc4dd787-2454-4e19-b100-15bd28110b4d",
   "metadata": {},
   "source": [
    "#### Check contents of the file\n",
    "- Check contents if needed\n",
    "- print(text[:200])\n",
    "- Checking vocabulary size"
   ]
  },
  {
   "cell_type": "code",
   "execution_count": 86,
   "id": "493d9f97-79b8-49d4-9e26-302daabab7fa",
   "metadata": {},
   "outputs": [
    {
     "name": "stdout",
     "output_type": "stream",
     "text": [
      "['\\n', ' ', '!', '(', ')', ',', '-', '.', '2', '3', ':', ';', '?', 'A', 'B', 'C', 'D', 'E', 'F', 'G', 'H', 'I', 'J', 'K', 'L', 'M', 'N', 'O', 'P', 'Q', 'R', 'S', 'T', 'U', 'V', 'W', 'X', 'Y', '_', 'a', 'b', 'c', 'd', 'e', 'f', 'g', 'h', 'i', 'j', 'k', 'l', 'm', 'n', 'o', 'p', 'q', 'r', 's', 't', 'u', 'v', 'w', 'x', 'y', 'z', 'ä', 'æ', 'ç', 'é', 'ö', 'œ', '—', '‘', '’', '“', '”', '\\ufeff']\n",
      "77\n"
     ]
    }
   ],
   "source": [
    "chars = sorted(set(text))\n",
    "print(chars)\n",
    "vocabulary_size = len(chars)\n",
    "print(vocabulary_size)"
   ]
  },
  {
   "cell_type": "markdown",
   "id": "78de9b30-dc63-4cc5-adab-761eefdb535d",
   "metadata": {},
   "source": [
    "#### Below example illustrates simple encoders and decoders"
   ]
  },
  {
   "cell_type": "code",
   "execution_count": 89,
   "id": "5d4df6f9-fc9f-438c-b785-35481788964c",
   "metadata": {},
   "outputs": [
    {
     "name": "stdout",
     "output_type": "stream",
     "text": [
      "hello\n"
     ]
    }
   ],
   "source": [
    "string_to_int = { ch:i for i, ch in enumerate(chars) }\n",
    "int_to_string = { i:ch for i, ch in enumerate(chars) }\n",
    "encode = lambda s: [string_to_int[c] for c in s ]\n",
    "decode = lambda l: ''.join([int_to_string[i] for i in l])\n",
    "encoded_hello = encode('hello')\n",
    "decoded_hello = decode(encoded_hello)\n",
    "print(decoded_hello)"
   ]
  },
  {
   "cell_type": "markdown",
   "id": "4be0d342-38ad-477d-8be1-506ddd407cc3",
   "metadata": {},
   "source": [
    "#### Use Torch Library and Initialise Tensors for DATA"
   ]
  },
  {
   "cell_type": "code",
   "execution_count": 92,
   "id": "39ec8a53-05b7-46df-9e37-ec98dbc958cd",
   "metadata": {},
   "outputs": [
    {
     "name": "stdout",
     "output_type": "stream",
     "text": [
      "tensor([76, 13,  1,  ..., 39, 52,  7])\n",
      "Contents size:  375132\n"
     ]
    }
   ],
   "source": [
    "data = torch.tensor(encode(text), dtype=torch.long)\n",
    "print(data)\n",
    "print('Contents size: ', len(data))"
   ]
  },
  {
   "cell_type": "code",
   "execution_count": 94,
   "id": "7cd7ad07-278e-4894-b002-f41cf41465a4",
   "metadata": {},
   "outputs": [],
   "source": [
    "n = int(0.8*len(data))\n",
    "train_data=data[:n]\n",
    "val_data = data [n:]"
   ]
  },
  {
   "cell_type": "code",
   "execution_count": 41,
   "id": "e19f8743-9a38-46c8-b3ab-0592b792d563",
   "metadata": {},
   "outputs": [
    {
     "name": "stdout",
     "output_type": "stream",
     "text": [
      "input > tensor([76]) target > tensor(13)\n",
      "input > tensor([76, 13]) target > tensor(1)\n",
      "input > tensor([76, 13,  1]) target > tensor(30)\n",
      "input > tensor([76, 13,  1, 30]) target > tensor(53)\n",
      "input > tensor([76, 13,  1, 30, 53]) target > tensor(53)\n",
      "input > tensor([76, 13,  1, 30, 53, 53]) target > tensor(51)\n",
      "input > tensor([76, 13,  1, 30, 53, 53, 51]) target > tensor(1)\n",
      "input > tensor([76, 13,  1, 30, 53, 53, 51,  1]) target > tensor(35)\n"
     ]
    }
   ],
   "source": [
    "x = train_data[:block_size]\n",
    "y = train_data[1:block_size+1]\n",
    "\n",
    "for t in range(block_size):\n",
    "    context = x[:t+1]\n",
    "    target = y[t]\n",
    "    print('input >', context, 'target >', target);"
   ]
  },
  {
   "cell_type": "code",
   "execution_count": null,
   "id": "28a0fb1d-7d24-455e-8119-59add1b51c5f",
   "metadata": {},
   "outputs": [],
   "source": []
  }
 ],
 "metadata": {
  "kernelspec": {
   "display_name": "machinelearning-llm-env",
   "language": "python",
   "name": ".mlenv"
  },
  "language_info": {
   "codemirror_mode": {
    "name": "ipython",
    "version": 3
   },
   "file_extension": ".py",
   "mimetype": "text/x-python",
   "name": "python",
   "nbconvert_exporter": "python",
   "pygments_lexer": "ipython3",
   "version": "3.11.7"
  }
 },
 "nbformat": 4,
 "nbformat_minor": 5
}
